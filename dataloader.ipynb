{
 "cells": [
  {
   "cell_type": "code",
   "execution_count": null,
   "metadata": {},
   "outputs": [],
   "source": [
    "import json"
   ]
  },
  {
   "cell_type": "code",
   "execution_count": null,
   "metadata": {},
   "outputs": [],
   "source": [
    "test_q = json.load(open('./activitynet-qa/dataset/test_q.json', 'r'))\n",
    "test_ans = json.load(open('./activitynet-qa/dataset/test_a.json', 'r'))"
   ]
  },
  {
   "cell_type": "code",
   "execution_count": null,
   "metadata": {},
   "outputs": [],
   "source": [
    "print(test_q[1])"
   ]
  },
  {
   "cell_type": "code",
   "execution_count": null,
   "metadata": {},
   "outputs": [],
   "source": [
    "# import fiftyone as fo\n",
    "# import fiftyone.zoo as foz\n",
    "\n",
    "# dataset = foz.load_zoo_dataset(\"quickstart\")\n",
    "# session = fo.launch_app(dataset)"
   ]
  },
  {
   "cell_type": "code",
   "execution_count": null,
   "metadata": {},
   "outputs": [],
   "source": [
    "import fiftyone as fo\n",
    "import fiftyone.zoo as foz\n",
    "\n",
    "DATASET = 'activitynet-200'"
   ]
  },
  {
   "cell_type": "code",
   "execution_count": null,
   "metadata": {},
   "outputs": [],
   "source": [
    "downloaded_datasets = foz.list_downloaded_zoo_datasets()\n",
    "fo.pprint(downloaded_datasets)"
   ]
  },
  {
   "cell_type": "code",
   "execution_count": null,
   "metadata": {},
   "outputs": [],
   "source": [
    "import textwrap\n",
    "\n",
    "zoo_dataset = foz.get_zoo_dataset(DATASET)\n",
    "\n",
    "print(\"***** Dataset description *****\")\n",
    "print(textwrap.dedent(\"    \" + zoo_dataset.__doc__))\n",
    "\n",
    "print(\"***** Tags *****\")\n",
    "print(\"%s\\n\" % \", \".join(zoo_dataset.tags))\n",
    "\n",
    "print(\"***** Supported splits *****\")\n",
    "print(\"%s\\n\" % \", \".join(zoo_dataset.supported_splits))"
   ]
  },
  {
   "cell_type": "code",
   "execution_count": null,
   "metadata": {},
   "outputs": [],
   "source": [
    "dataset_dir = foz.find_zoo_dataset(DATASET)\n",
    "info = foz.load_zoo_dataset_info(DATASET)\n",
    "\n",
    "print(\"***** Dataset location *****\")\n",
    "print(dataset_dir)\n",
    "\n",
    "print(\"\\n***** Dataset info *****\")\n",
    "print(info)"
   ]
  },
  {
   "cell_type": "code",
   "execution_count": null,
   "metadata": {},
   "outputs": [],
   "source": [
    "foz.delete_zoo_dataset(DATASET)"
   ]
  },
  {
   "cell_type": "code",
   "execution_count": null,
   "metadata": {},
   "outputs": [],
   "source": [
    "dataset = foz.load_zoo_dataset(\n",
    "    \"activitynet-200\",\n",
    "    split=\"validation\",\n",
    "    max_samples=10,\n",
    "    shuffle=True,\n",
    ")\n",
    "\n"
   ]
  },
  {
   "cell_type": "code",
   "execution_count": null,
   "metadata": {},
   "outputs": [],
   "source": [
    "print(dataset)"
   ]
  }
 ],
 "metadata": {
  "kernelspec": {
   "display_name": "Python 3",
   "language": "python",
   "name": "python3"
  },
  "language_info": {
   "codemirror_mode": {
    "name": "ipython",
    "version": 3
   },
   "file_extension": ".py",
   "mimetype": "text/x-python",
   "name": "python",
   "nbconvert_exporter": "python",
   "pygments_lexer": "ipython3",
   "version": "3.10.14"
  }
 },
 "nbformat": 4,
 "nbformat_minor": 2
}
