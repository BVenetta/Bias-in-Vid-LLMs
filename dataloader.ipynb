{
 "cells": [
  {
   "cell_type": "code",
   "execution_count": 2,
   "metadata": {},
   "outputs": [],
   "source": [
    "import json"
   ]
  },
  {
   "cell_type": "code",
   "execution_count": 3,
   "metadata": {},
   "outputs": [],
   "source": [
    "test_q = json.load(open('./activitynet-qa/dataset/test_q.json', 'r'))\n",
    "test_ans = json.load(open('./activitynet-qa/dataset/test_a.json', 'r'))"
   ]
  },
  {
   "cell_type": "code",
   "execution_count": 4,
   "metadata": {},
   "outputs": [
    {
     "name": "stdout",
     "output_type": "stream",
     "text": [
      "{'video_name': '9eniCub7u60', 'question': 'does the girl in black clothes have long hair', 'question_id': 'v_9eniCub7u60_2'}\n"
     ]
    }
   ],
   "source": [
    "print(test_q[1])"
   ]
  },
  {
   "cell_type": "code",
   "execution_count": null,
   "metadata": {},
   "outputs": [],
   "source": [
    "# import fiftyone as fo\n",
    "# import fiftyone.zoo as foz\n",
    "\n",
    "# dataset = foz.load_zoo_dataset(\"quickstart\")\n",
    "# session = fo.launch_app(dataset)"
   ]
  },
  {
   "cell_type": "code",
   "execution_count": 5,
   "metadata": {},
   "outputs": [],
   "source": [
    "import fiftyone as fo\n",
    "import fiftyone.zoo as foz\n",
    "\n",
    "DATASET = 'activitynet-200'"
   ]
  },
  {
   "cell_type": "code",
   "execution_count": null,
   "metadata": {},
   "outputs": [],
   "source": [
    "downloaded_datasets = foz.list_downloaded_zoo_datasets()\n",
    "fo.pprint(downloaded_datasets)"
   ]
  },
  {
   "cell_type": "code",
   "execution_count": null,
   "metadata": {},
   "outputs": [],
   "source": [
    "import textwrap\n",
    "\n",
    "zoo_dataset = foz.get_zoo_dataset(DATASET)\n",
    "\n",
    "print(\"***** Dataset description *****\")\n",
    "print(textwrap.dedent(\"    \" + zoo_dataset.__doc__))\n",
    "\n",
    "print(\"***** Tags *****\")\n",
    "print(\"%s\\n\" % \", \".join(zoo_dataset.tags))\n",
    "\n",
    "print(\"***** Supported splits *****\")\n",
    "print(\"%s\\n\" % \", \".join(zoo_dataset.supported_splits))"
   ]
  },
  {
   "cell_type": "code",
   "execution_count": null,
   "metadata": {},
   "outputs": [],
   "source": [
    "dataset_dir = foz.find_zoo_dataset(DATASET)\n",
    "info = foz.load_zoo_dataset_info(DATASET)\n",
    "\n",
    "print(\"***** Dataset location *****\")\n",
    "print(dataset_dir)\n",
    "\n",
    "print(\"\\n***** Dataset info *****\")\n",
    "print(info)"
   ]
  },
  {
   "cell_type": "code",
   "execution_count": null,
   "metadata": {},
   "outputs": [],
   "source": [
    "foz.delete_zoo_dataset(DATASET)"
   ]
  },
  {
   "cell_type": "code",
   "execution_count": 8,
   "metadata": {},
   "outputs": [
    {
     "name": "stdout",
     "output_type": "stream",
     "text": [
      "Downloading split 'validation' to 'C:\\Users\\lmps\\fiftyone\\activitynet-200\\validation' if necessary\n",
      "Downloading videos from YouTube...\n",
      "Failed to download video 'https://www.youtube.com/watch?v=Re-SsHmajds': Video unavailable\n",
      "Failed to download video 'https://www.youtube.com/watch?v=t9j3GNVm8jw': Video unavailable\n",
      "Failed to download video 'https://www.youtube.com/watch?v=qVqlImNflY8': Video unavailable\n",
      "Failed to download video 'https://www.youtube.com/watch?v=pMVo7PaXD1c': This is a private video. Please sign in to verify that you may see it.\n",
      "Failed to download video 'https://www.youtube.com/watch?v=6it_yeIb_L0': Video unavailable\n",
      "Failed to download video 'https://www.youtube.com/watch?v=qXNYHbnGvto': <class 'pytube.exceptions.AgeRestrictedError'>\n",
      "Failed to download video 'https://www.youtube.com/watch?v=wU-8acM-IUM': This is a private video. Please sign in to verify that you may see it.\n",
      "Failed to download video 'https://www.youtube.com/watch?v=No5ZwqHdEQU': Video unavailable\n",
      " 100% |██████████████████████| 5/5 [2.6m elapsed, 0s remaining, 0.0 videos/s]    \n",
      "Dataset info written to 'C:\\Users\\lmps\\fiftyone\\activitynet-200\\info.json'\n",
      "Loading existing dataset 'activitynet-200-validation-15'. To reload from disk, either delete the existing dataset or provide a custom `dataset_name` to use\n"
     ]
    }
   ],
   "source": [
    "dataset = foz.load_zoo_dataset(\n",
    "    \"activitynet-200\",\n",
    "    split=\"validation\",\n",
    "    max_samples=15,\n",
    "    shuffle=True,\n",
    ")\n",
    "\n"
   ]
  },
  {
   "cell_type": "code",
   "execution_count": 9,
   "metadata": {},
   "outputs": [
    {
     "name": "stdout",
     "output_type": "stream",
     "text": [
      "Name:        activitynet-200-validation-15\n",
      "Media type:  video\n",
      "Num samples: 15\n",
      "Persistent:  False\n",
      "Tags:        []\n",
      "Sample fields:\n",
      "    id:           fiftyone.core.fields.ObjectIdField\n",
      "    filepath:     fiftyone.core.fields.StringField\n",
      "    tags:         fiftyone.core.fields.ListField(fiftyone.core.fields.StringField)\n",
      "    metadata:     fiftyone.core.fields.EmbeddedDocumentField(fiftyone.core.metadata.VideoMetadata)\n",
      "    ground_truth: fiftyone.core.fields.EmbeddedDocumentField(fiftyone.core.labels.TemporalDetections)\n",
      "Frame fields:\n",
      "    id:           fiftyone.core.fields.ObjectIdField\n",
      "    frame_number: fiftyone.core.fields.FrameNumberField\n"
     ]
    }
   ],
   "source": [
    "print(dataset)"
   ]
  },
  {
   "cell_type": "code",
   "execution_count": 13,
   "metadata": {},
   "outputs": [
    {
     "name": "stdout",
     "output_type": "stream",
     "text": [
      "<Sample: {\n",
      "    'id': '66368061e283f125467741f4',\n",
      "    'media_type': 'video',\n",
      "    'filepath': 'C:\\\\Users\\\\lmps\\\\fiftyone\\\\activitynet-100\\\\validation\\\\data\\\\v_6TUA9ipKk9I.mp4',\n",
      "    'tags': ['validation'],\n",
      "    'metadata': None,\n",
      "    'ground_truth': <TemporalDetections: {\n",
      "        'detections': [\n",
      "            <TemporalDetection: {\n",
      "                'id': '66368061e283f125467741f3',\n",
      "                'tags': [],\n",
      "                'label': 'Plataform diving',\n",
      "                'support': [232, 1090],\n",
      "                'confidence': None,\n",
      "            }>,\n",
      "        ],\n",
      "    }>,\n",
      "    'frames': <Frames: 0>,\n",
      "}>\n"
     ]
    }
   ],
   "source": [
    "for item in dataset:\n",
    "    print(item)\n",
    "    break"
   ]
  }
 ],
 "metadata": {
  "kernelspec": {
   "display_name": "Python 3",
   "language": "python",
   "name": "python3"
  },
  "language_info": {
   "codemirror_mode": {
    "name": "ipython",
    "version": 3
   },
   "file_extension": ".py",
   "mimetype": "text/x-python",
   "name": "python",
   "nbconvert_exporter": "python",
   "pygments_lexer": "ipython3",
   "version": "3.10.14"
  }
 },
 "nbformat": 4,
 "nbformat_minor": 2
}
